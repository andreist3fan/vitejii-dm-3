{
 "cells": [
  {
   "cell_type": "code",
   "execution_count": 1,
   "metadata": {},
   "outputs": [],
   "source": [
    "from pathlib import Path\n",
    "\n",
    "import networkx as nx\n",
    "import pandas as pd\n",
    "import numpy as np\n",
    "\n",
    "import matplotlib.pyplot as plt\n",
    "from sklearn.manifold import TSNE\n",
    "from sklearn.model_selection import train_test_split\n",
    "from sklearn.svm import SVC"
   ]
  },
  {
   "cell_type": "code",
   "execution_count": 2,
   "metadata": {},
   "outputs": [],
   "source": [
    "def read_data(dir_name: str, file_name: str):\n",
    "    \"\"\"Read the medium articles with lists\n",
    "\n",
    "    Args:\n",
    "        dir_name (str): Root directory of the medium title files and lists.\n",
    "\n",
    "    Returns:\n",
    "        final_data: merged dataframes with articles and lists\n",
    "    \"\"\"\n",
    "\n",
    "    final_data = pd.read_csv(dir_name+\"/\"+file_name+\".csv\")\n",
    "    return final_data"
   ]
  },
  {
   "cell_type": "code",
   "execution_count": 3,
   "metadata": {},
   "outputs": [
    {
     "data": {
      "text/html": [
       "<div>\n",
       "<style scoped>\n",
       "    .dataframe tbody tr th:only-of-type {\n",
       "        vertical-align: middle;\n",
       "    }\n",
       "\n",
       "    .dataframe tbody tr th {\n",
       "        vertical-align: top;\n",
       "    }\n",
       "\n",
       "    .dataframe thead th {\n",
       "        text-align: right;\n",
       "    }\n",
       "</style>\n",
       "<table border=\"1\" class=\"dataframe\">\n",
       "  <thead>\n",
       "    <tr style=\"text-align: right;\">\n",
       "      <th></th>\n",
       "      <th>article</th>\n",
       "      <th>title</th>\n",
       "      <th>subtitle</th>\n",
       "      <th>author</th>\n",
       "      <th>date</th>\n",
       "      <th>list</th>\n",
       "    </tr>\n",
       "  </thead>\n",
       "  <tbody>\n",
       "    <tr>\n",
       "      <th>0</th>\n",
       "      <td>https://medium.com/@maniakacademy/code-demo-sh...</td>\n",
       "      <td>Code/Demo Share: Palo Alto Firewall Network In...</td>\n",
       "      <td>IP is broken as a unit of Control! IDENTITY as...</td>\n",
       "      <td>Sebastian Maniak</td>\n",
       "      <td>2022-08-17</td>\n",
       "      <td>https://medium.com/@zemmali1990/list/aws-49f68...</td>\n",
       "    </tr>\n",
       "    <tr>\n",
       "      <th>1</th>\n",
       "      <td>https://medium.com/towards-artificial-intellig...</td>\n",
       "      <td>Clustering using Social Graph Network</td>\n",
       "      <td>A Social Graph Network can be formed when ther...</td>\n",
       "      <td>Naveed Ahmed Janvekar</td>\n",
       "      <td>2022-01-29</td>\n",
       "      <td>https://medium.com/@TomaszCieplak/list/graph-d...</td>\n",
       "    </tr>\n",
       "    <tr>\n",
       "      <th>2</th>\n",
       "      <td>https://medium.com/@sarafparam/transformers-fo...</td>\n",
       "      <td>Transformers for Time-Series</td>\n",
       "      <td>Forecasting still remains to be dominated by S...</td>\n",
       "      <td>Param Saraf</td>\n",
       "      <td>2020-10-20</td>\n",
       "      <td>https://medium.com/@sergiobonato/list/time-ser...</td>\n",
       "    </tr>\n",
       "    <tr>\n",
       "      <th>3</th>\n",
       "      <td>https://medium.com/towards-data-science/review...</td>\n",
       "      <td>Reviewing A/B Testing Course by Google on Udacity</td>\n",
       "      <td>Read to find out how A/B tests are performed a...</td>\n",
       "      <td>Suyash Maheshwari</td>\n",
       "      <td>2020-05-10</td>\n",
       "      <td>https://medium.com/@online.rajib/list/ml-c2cac...</td>\n",
       "    </tr>\n",
       "    <tr>\n",
       "      <th>4</th>\n",
       "      <td>https://medium.com/towards-data-science/a-comp...</td>\n",
       "      <td>A Comprehensive Hands-on Guide to Transfer Lea...</td>\n",
       "      <td>Deep Learning on Steroids with the Power of Kn...</td>\n",
       "      <td>Dipanjan (DJ) Sarkar</td>\n",
       "      <td>2018-11-14</td>\n",
       "      <td>https://medium.com/@farhanhanavi07/list/deep-l...</td>\n",
       "    </tr>\n",
       "    <tr>\n",
       "      <th>...</th>\n",
       "      <td>...</td>\n",
       "      <td>...</td>\n",
       "      <td>...</td>\n",
       "      <td>...</td>\n",
       "      <td>...</td>\n",
       "      <td>...</td>\n",
       "    </tr>\n",
       "    <tr>\n",
       "      <th>27713</th>\n",
       "      <td>https://medium.com/cometheartbeat/deep-learnin...</td>\n",
       "      <td>Deep Learning Techniques you Should Know in 2022</td>\n",
       "      <td>Over the years, Deep Learning has really taken...</td>\n",
       "      <td>Nisha Arya Ahmed</td>\n",
       "      <td>2022-04-21</td>\n",
       "      <td>https://medium.com/@vigguvenki/list/deep-learn...</td>\n",
       "    </tr>\n",
       "    <tr>\n",
       "      <th>27714</th>\n",
       "      <td>https://medium.com/towardsdev/intro-to-object-...</td>\n",
       "      <td>Intro to Object-Oriented Programming For Data ...</td>\n",
       "      <td>Implement a simple Linear Regression with OOP ...</td>\n",
       "      <td>Bex T.</td>\n",
       "      <td>2021-04-12</td>\n",
       "      <td>https://medium.com/@or.matalon2/list/oop-4aad5...</td>\n",
       "    </tr>\n",
       "    <tr>\n",
       "      <th>27715</th>\n",
       "      <td>https://medium.com/towards-data-science/learn-...</td>\n",
       "      <td>Learn Enough Docker to be Useful</td>\n",
       "      <td>Part 1: The Conceptual Landscape — Containers ...</td>\n",
       "      <td>Jeff Hale</td>\n",
       "      <td>2019-01-09</td>\n",
       "      <td>https://medium.com/@vaibhavb2473/list/machine-...</td>\n",
       "    </tr>\n",
       "    <tr>\n",
       "      <th>27716</th>\n",
       "      <td>https://medium.com/berndruecker/moving-from-em...</td>\n",
       "      <td>Moving from embedded to remote workflow engines</td>\n",
       "      <td>For a long time, we have advocated for an arch...</td>\n",
       "      <td>Bernd Rücker</td>\n",
       "      <td>2022-02-08</td>\n",
       "      <td>https://medium.com/@giamma80/list/java-3c31810...</td>\n",
       "    </tr>\n",
       "    <tr>\n",
       "      <th>27717</th>\n",
       "      <td>https://guillaume-weingertner.medium.com/5-ste...</td>\n",
       "      <td>5 Steps to Build Beautiful Bar Charts with Python</td>\n",
       "      <td>How to use the full capabilities of Matplotlib...</td>\n",
       "      <td>Guillaume Weingertner</td>\n",
       "      <td>2023-01-23</td>\n",
       "      <td>https://luistrigueiros.medium.com/list/python-...</td>\n",
       "    </tr>\n",
       "  </tbody>\n",
       "</table>\n",
       "<p>27718 rows × 6 columns</p>\n",
       "</div>"
      ],
      "text/plain": [
       "                                                 article  \\\n",
       "0      https://medium.com/@maniakacademy/code-demo-sh...   \n",
       "1      https://medium.com/towards-artificial-intellig...   \n",
       "2      https://medium.com/@sarafparam/transformers-fo...   \n",
       "3      https://medium.com/towards-data-science/review...   \n",
       "4      https://medium.com/towards-data-science/a-comp...   \n",
       "...                                                  ...   \n",
       "27713  https://medium.com/cometheartbeat/deep-learnin...   \n",
       "27714  https://medium.com/towardsdev/intro-to-object-...   \n",
       "27715  https://medium.com/towards-data-science/learn-...   \n",
       "27716  https://medium.com/berndruecker/moving-from-em...   \n",
       "27717  https://guillaume-weingertner.medium.com/5-ste...   \n",
       "\n",
       "                                                   title  \\\n",
       "0      Code/Demo Share: Palo Alto Firewall Network In...   \n",
       "1                  Clustering using Social Graph Network   \n",
       "2                           Transformers for Time-Series   \n",
       "3      Reviewing A/B Testing Course by Google on Udacity   \n",
       "4      A Comprehensive Hands-on Guide to Transfer Lea...   \n",
       "...                                                  ...   \n",
       "27713   Deep Learning Techniques you Should Know in 2022   \n",
       "27714  Intro to Object-Oriented Programming For Data ...   \n",
       "27715                   Learn Enough Docker to be Useful   \n",
       "27716    Moving from embedded to remote workflow engines   \n",
       "27717  5 Steps to Build Beautiful Bar Charts with Python   \n",
       "\n",
       "                                                subtitle  \\\n",
       "0      IP is broken as a unit of Control! IDENTITY as...   \n",
       "1      A Social Graph Network can be formed when ther...   \n",
       "2      Forecasting still remains to be dominated by S...   \n",
       "3      Read to find out how A/B tests are performed a...   \n",
       "4      Deep Learning on Steroids with the Power of Kn...   \n",
       "...                                                  ...   \n",
       "27713  Over the years, Deep Learning has really taken...   \n",
       "27714  Implement a simple Linear Regression with OOP ...   \n",
       "27715  Part 1: The Conceptual Landscape — Containers ...   \n",
       "27716  For a long time, we have advocated for an arch...   \n",
       "27717  How to use the full capabilities of Matplotlib...   \n",
       "\n",
       "                      author        date  \\\n",
       "0           Sebastian Maniak  2022-08-17   \n",
       "1      Naveed Ahmed Janvekar  2022-01-29   \n",
       "2                Param Saraf  2020-10-20   \n",
       "3          Suyash Maheshwari  2020-05-10   \n",
       "4       Dipanjan (DJ) Sarkar  2018-11-14   \n",
       "...                      ...         ...   \n",
       "27713       Nisha Arya Ahmed  2022-04-21   \n",
       "27714                 Bex T.  2021-04-12   \n",
       "27715              Jeff Hale  2019-01-09   \n",
       "27716           Bernd Rücker  2022-02-08   \n",
       "27717  Guillaume Weingertner  2023-01-23   \n",
       "\n",
       "                                                    list  \n",
       "0      https://medium.com/@zemmali1990/list/aws-49f68...  \n",
       "1      https://medium.com/@TomaszCieplak/list/graph-d...  \n",
       "2      https://medium.com/@sergiobonato/list/time-ser...  \n",
       "3      https://medium.com/@online.rajib/list/ml-c2cac...  \n",
       "4      https://medium.com/@farhanhanavi07/list/deep-l...  \n",
       "...                                                  ...  \n",
       "27713  https://medium.com/@vigguvenki/list/deep-learn...  \n",
       "27714  https://medium.com/@or.matalon2/list/oop-4aad5...  \n",
       "27715  https://medium.com/@vaibhavb2473/list/machine-...  \n",
       "27716  https://medium.com/@giamma80/list/java-3c31810...  \n",
       "27717  https://luistrigueiros.medium.com/list/python-...  \n",
       "\n",
       "[27718 rows x 6 columns]"
      ]
     },
     "execution_count": 3,
     "metadata": {},
     "output_type": "execute_result"
    }
   ],
   "source": [
    "final_data = pd.read_csv(\"data/pipeline_assignment_data/full_data_without_labels.csv\")\n",
    "final_data"
   ]
  },
  {
   "cell_type": "code",
   "execution_count": 4,
   "metadata": {},
   "outputs": [
    {
     "data": {
      "text/html": [
       "<div>\n",
       "<style scoped>\n",
       "    .dataframe tbody tr th:only-of-type {\n",
       "        vertical-align: middle;\n",
       "    }\n",
       "\n",
       "    .dataframe tbody tr th {\n",
       "        vertical-align: top;\n",
       "    }\n",
       "\n",
       "    .dataframe thead th {\n",
       "        text-align: right;\n",
       "    }\n",
       "</style>\n",
       "<table border=\"1\" class=\"dataframe\">\n",
       "  <thead>\n",
       "    <tr style=\"text-align: right;\">\n",
       "      <th></th>\n",
       "      <th>index</th>\n",
       "      <th>article</th>\n",
       "      <th>title</th>\n",
       "      <th>subtitle</th>\n",
       "      <th>author</th>\n",
       "      <th>date</th>\n",
       "      <th>list</th>\n",
       "      <th>labels</th>\n",
       "    </tr>\n",
       "  </thead>\n",
       "  <tbody>\n",
       "    <tr>\n",
       "      <th>0</th>\n",
       "      <td>3279</td>\n",
       "      <td>https://medium.com/dev-genius/how-to-convert-m...</td>\n",
       "      <td>How to Convert MP4 Videos to Animated GIFs</td>\n",
       "      <td>With Kazam and ffmpeg on GNU/Linux systems — I...</td>\n",
       "      <td>Jordi Bassaganas</td>\n",
       "      <td>2022-06-02</td>\n",
       "      <td>https://medium.com/@zzpzaf.se/list/var-4f4a92d...</td>\n",
       "      <td>software-development</td>\n",
       "    </tr>\n",
       "    <tr>\n",
       "      <th>1</th>\n",
       "      <td>26139</td>\n",
       "      <td>https://medium.com/towards-data-science/a-cust...</td>\n",
       "      <td>Custom SpaCy Model Deployment with AWS ECR, Sa...</td>\n",
       "      <td>A tutorial on how to deploy SpaCy with AWS. — ...</td>\n",
       "      <td>Cheng</td>\n",
       "      <td>2021-06-04</td>\n",
       "      <td>https://medium.com/@munivinayk/list/nlp-242e66...</td>\n",
       "      <td>artificial-intelligence</td>\n",
       "    </tr>\n",
       "    <tr>\n",
       "      <th>2</th>\n",
       "      <td>9946</td>\n",
       "      <td>https://medium.com/towards-data-science/5-book...</td>\n",
       "      <td>5 Books To Grow As A Leader In Data Analytics</td>\n",
       "      <td>Are you a senior analyst growing towards a man...</td>\n",
       "      <td>Valentin Mucke</td>\n",
       "      <td>2022-01-15</td>\n",
       "      <td>https://medium.com/@Nikhil_Phadtare/list/books...</td>\n",
       "      <td>artificial-intelligence</td>\n",
       "    </tr>\n",
       "    <tr>\n",
       "      <th>3</th>\n",
       "      <td>2353</td>\n",
       "      <td>https://medium.com/@unsuitable001/package-cron...</td>\n",
       "      <td>package:cronet, an HTTP Dart/Flutter package w...</td>\n",
       "      <td>My Dart Google Summer of Code 2021 experience....</td>\n",
       "      <td>Soumyadip Monda</td>\n",
       "      <td>2021-08-21</td>\n",
       "      <td>https://medium.com/@djibi.jb/list/flutter-e53c...</td>\n",
       "      <td>software-development</td>\n",
       "    </tr>\n",
       "    <tr>\n",
       "      <th>4</th>\n",
       "      <td>8266</td>\n",
       "      <td>https://medium.com/towards-data-science/statis...</td>\n",
       "      <td>Statistics in Python — Collinearity and Multic...</td>\n",
       "      <td>Understand how to discover multicollinearity i...</td>\n",
       "      <td>Wei-Meng Lee</td>\n",
       "      <td>2021-10-01</td>\n",
       "      <td>https://medium.com/@abhiagar/list/stats-765e27...</td>\n",
       "      <td>software-development</td>\n",
       "    </tr>\n",
       "    <tr>\n",
       "      <th>...</th>\n",
       "      <td>...</td>\n",
       "      <td>...</td>\n",
       "      <td>...</td>\n",
       "      <td>...</td>\n",
       "      <td>...</td>\n",
       "      <td>...</td>\n",
       "      <td>...</td>\n",
       "      <td>...</td>\n",
       "    </tr>\n",
       "    <tr>\n",
       "      <th>22377</th>\n",
       "      <td>6669</td>\n",
       "      <td>https://medium.com/towards-data-science/linkin...</td>\n",
       "      <td>Linking Documents in a Semantic Graph (Part 2)</td>\n",
       "      <td>How to design your own graph using TigerGraph ...</td>\n",
       "      <td>Akash Kau</td>\n",
       "      <td>2020-05-27</td>\n",
       "      <td>https://medium.com/@william.sheffel/list/tiger...</td>\n",
       "      <td>artificial-intelligence</td>\n",
       "    </tr>\n",
       "    <tr>\n",
       "      <th>22378</th>\n",
       "      <td>18163</td>\n",
       "      <td>https://medium.com/towards-data-science/automa...</td>\n",
       "      <td>Automate Video Editing with Python</td>\n",
       "      <td>Automate the editing of explainer videos to cr...</td>\n",
       "      <td>Samir Saci</td>\n",
       "      <td>2022-11-10</td>\n",
       "      <td>https://medium.com/@jstart.james/list/photogra...</td>\n",
       "      <td>software-development</td>\n",
       "    </tr>\n",
       "    <tr>\n",
       "      <th>22379</th>\n",
       "      <td>13001</td>\n",
       "      <td>https://medium.com/towards-data-science/make-p...</td>\n",
       "      <td>Make Python Run As Fast As C</td>\n",
       "      <td>Faster Python Code With Numba — The Speed Issu...</td>\n",
       "      <td>Lukas Frei</td>\n",
       "      <td>2021-08-04</td>\n",
       "      <td>https://medium.com/@jstart.james/list/system-e...</td>\n",
       "      <td>artificial-intelligence</td>\n",
       "    </tr>\n",
       "    <tr>\n",
       "      <th>22380</th>\n",
       "      <td>25234</td>\n",
       "      <td>https://medium.com/towards-data-science/6-juli...</td>\n",
       "      <td>6 Julia Frameworks to Create Desktop GUI’s and...</td>\n",
       "      <td>Julia is used for a lot of deeply technical ap...</td>\n",
       "      <td>Logan Kilpatrick</td>\n",
       "      <td>2022-01-05</td>\n",
       "      <td>https://medium.com/@gurumurthi/list/julia-3583...</td>\n",
       "      <td>software-development</td>\n",
       "    </tr>\n",
       "    <tr>\n",
       "      <th>22381</th>\n",
       "      <td>27229</td>\n",
       "      <td>https://medium.com/@mahipal-nehra/microservice...</td>\n",
       "      <td>Microservices States, Scalability, and Streams</td>\n",
       "      <td>For years now, most of us have heard the word ...</td>\n",
       "      <td>Mahipal Nehra</td>\n",
       "      <td>2022-06-07</td>\n",
       "      <td>https://medium.com/@israelsantiago/list/micros...</td>\n",
       "      <td>software-development</td>\n",
       "    </tr>\n",
       "  </tbody>\n",
       "</table>\n",
       "<p>22382 rows × 8 columns</p>\n",
       "</div>"
      ],
      "text/plain": [
       "       index                                            article  \\\n",
       "0       3279  https://medium.com/dev-genius/how-to-convert-m...   \n",
       "1      26139  https://medium.com/towards-data-science/a-cust...   \n",
       "2       9946  https://medium.com/towards-data-science/5-book...   \n",
       "3       2353  https://medium.com/@unsuitable001/package-cron...   \n",
       "4       8266  https://medium.com/towards-data-science/statis...   \n",
       "...      ...                                                ...   \n",
       "22377   6669  https://medium.com/towards-data-science/linkin...   \n",
       "22378  18163  https://medium.com/towards-data-science/automa...   \n",
       "22379  13001  https://medium.com/towards-data-science/make-p...   \n",
       "22380  25234  https://medium.com/towards-data-science/6-juli...   \n",
       "22381  27229  https://medium.com/@mahipal-nehra/microservice...   \n",
       "\n",
       "                                                   title  \\\n",
       "0             How to Convert MP4 Videos to Animated GIFs   \n",
       "1      Custom SpaCy Model Deployment with AWS ECR, Sa...   \n",
       "2          5 Books To Grow As A Leader In Data Analytics   \n",
       "3      package:cronet, an HTTP Dart/Flutter package w...   \n",
       "4      Statistics in Python — Collinearity and Multic...   \n",
       "...                                                  ...   \n",
       "22377     Linking Documents in a Semantic Graph (Part 2)   \n",
       "22378                 Automate Video Editing with Python   \n",
       "22379                       Make Python Run As Fast As C   \n",
       "22380  6 Julia Frameworks to Create Desktop GUI’s and...   \n",
       "22381     Microservices States, Scalability, and Streams   \n",
       "\n",
       "                                                subtitle            author  \\\n",
       "0      With Kazam and ffmpeg on GNU/Linux systems — I...  Jordi Bassaganas   \n",
       "1      A tutorial on how to deploy SpaCy with AWS. — ...             Cheng   \n",
       "2      Are you a senior analyst growing towards a man...    Valentin Mucke   \n",
       "3      My Dart Google Summer of Code 2021 experience....   Soumyadip Monda   \n",
       "4      Understand how to discover multicollinearity i...      Wei-Meng Lee   \n",
       "...                                                  ...               ...   \n",
       "22377  How to design your own graph using TigerGraph ...         Akash Kau   \n",
       "22378  Automate the editing of explainer videos to cr...        Samir Saci   \n",
       "22379  Faster Python Code With Numba — The Speed Issu...        Lukas Frei   \n",
       "22380  Julia is used for a lot of deeply technical ap...  Logan Kilpatrick   \n",
       "22381  For years now, most of us have heard the word ...     Mahipal Nehra   \n",
       "\n",
       "             date                                               list  \\\n",
       "0      2022-06-02  https://medium.com/@zzpzaf.se/list/var-4f4a92d...   \n",
       "1      2021-06-04  https://medium.com/@munivinayk/list/nlp-242e66...   \n",
       "2      2022-01-15  https://medium.com/@Nikhil_Phadtare/list/books...   \n",
       "3      2021-08-21  https://medium.com/@djibi.jb/list/flutter-e53c...   \n",
       "4      2021-10-01  https://medium.com/@abhiagar/list/stats-765e27...   \n",
       "...           ...                                                ...   \n",
       "22377  2020-05-27  https://medium.com/@william.sheffel/list/tiger...   \n",
       "22378  2022-11-10  https://medium.com/@jstart.james/list/photogra...   \n",
       "22379  2021-08-04  https://medium.com/@jstart.james/list/system-e...   \n",
       "22380  2022-01-05  https://medium.com/@gurumurthi/list/julia-3583...   \n",
       "22381  2022-06-07  https://medium.com/@israelsantiago/list/micros...   \n",
       "\n",
       "                        labels  \n",
       "0         software-development  \n",
       "1      artificial-intelligence  \n",
       "2      artificial-intelligence  \n",
       "3         software-development  \n",
       "4         software-development  \n",
       "...                        ...  \n",
       "22377  artificial-intelligence  \n",
       "22378     software-development  \n",
       "22379  artificial-intelligence  \n",
       "22380     software-development  \n",
       "22381     software-development  \n",
       "\n",
       "[22382 rows x 8 columns]"
      ]
     },
     "execution_count": 4,
     "metadata": {},
     "output_type": "execute_result"
    }
   ],
   "source": [
    "train = read_data(\"data/pipeline_assignment_data\",\"train\")\n",
    "train"
   ]
  },
  {
   "cell_type": "code",
   "execution_count": 5,
   "metadata": {},
   "outputs": [
    {
     "data": {
      "text/html": [
       "<div>\n",
       "<style scoped>\n",
       "    .dataframe tbody tr th:only-of-type {\n",
       "        vertical-align: middle;\n",
       "    }\n",
       "\n",
       "    .dataframe tbody tr th {\n",
       "        vertical-align: top;\n",
       "    }\n",
       "\n",
       "    .dataframe thead th {\n",
       "        text-align: right;\n",
       "    }\n",
       "</style>\n",
       "<table border=\"1\" class=\"dataframe\">\n",
       "  <thead>\n",
       "    <tr style=\"text-align: right;\">\n",
       "      <th></th>\n",
       "      <th>index</th>\n",
       "      <th>article</th>\n",
       "      <th>title</th>\n",
       "      <th>subtitle</th>\n",
       "      <th>author</th>\n",
       "      <th>date</th>\n",
       "      <th>list</th>\n",
       "      <th>labels</th>\n",
       "    </tr>\n",
       "  </thead>\n",
       "  <tbody>\n",
       "    <tr>\n",
       "      <th>0</th>\n",
       "      <td>2291</td>\n",
       "      <td>https://medium.com/towards-data-science/how-to...</td>\n",
       "      <td>How to Use the IBM Watson Tone Analyzer to Per...</td>\n",
       "      <td>How to use the IBM Watson Artificial Intellige...</td>\n",
       "      <td>Graham Harrison</td>\n",
       "      <td>2022-01-02</td>\n",
       "      <td>https://medium.com/@4ndres.gaviria/list/nlp-to...</td>\n",
       "      <td>artificial-intelligence</td>\n",
       "    </tr>\n",
       "    <tr>\n",
       "      <th>1</th>\n",
       "      <td>7292</td>\n",
       "      <td>https://medium.com/towards-data-science/surviv...</td>\n",
       "      <td>Survival Analysis: Intuition &amp; Implementation ...</td>\n",
       "      <td>There is a statistical technique which can ans...</td>\n",
       "      <td>Anurag Pandey</td>\n",
       "      <td>2019-01-06</td>\n",
       "      <td>https://medium.com/@jz5246/list/analytics-559c...</td>\n",
       "      <td>artificial-intelligence</td>\n",
       "    </tr>\n",
       "    <tr>\n",
       "      <th>2</th>\n",
       "      <td>6768</td>\n",
       "      <td>https://medium.com/experience-stack/embrace-co...</td>\n",
       "      <td>Embrace Complexity (Part 1)</td>\n",
       "      <td>Why all organisations should build internal ne...</td>\n",
       "      <td>Tony Seale</td>\n",
       "      <td>2022-02-04</td>\n",
       "      <td>https://medium.com/@yasha.brener/list/data-man...</td>\n",
       "      <td>software-development</td>\n",
       "    </tr>\n",
       "    <tr>\n",
       "      <th>3</th>\n",
       "      <td>15003</td>\n",
       "      <td>https://medium.com/towards-data-science/every-...</td>\n",
       "      <td>Every Complex DataFrame Manipulation, Explaine...</td>\n",
       "      <td>Melts, pivots, joins, explodes, &amp; more — Panda...</td>\n",
       "      <td>Andre Ye</td>\n",
       "      <td>2020-07-22</td>\n",
       "      <td>https://medium.com/@4ndres.gaviria/list/dataop...</td>\n",
       "      <td>artificial-intelligence</td>\n",
       "    </tr>\n",
       "    <tr>\n",
       "      <th>4</th>\n",
       "      <td>19782</td>\n",
       "      <td>https://medium.com/towards-data-science/macroe...</td>\n",
       "      <td>Macroeconomic &amp; Financial Factors and Ordinary...</td>\n",
       "      <td>Econometrics model using Arbitrage Pricing The...</td>\n",
       "      <td>Sarit Maitra</td>\n",
       "      <td>2020-06-27</td>\n",
       "      <td>https://medium.com/@halo9pan/list/quantitative...</td>\n",
       "      <td>software-development</td>\n",
       "    </tr>\n",
       "    <tr>\n",
       "      <th>...</th>\n",
       "      <td>...</td>\n",
       "      <td>...</td>\n",
       "      <td>...</td>\n",
       "      <td>...</td>\n",
       "      <td>...</td>\n",
       "      <td>...</td>\n",
       "      <td>...</td>\n",
       "      <td>...</td>\n",
       "    </tr>\n",
       "    <tr>\n",
       "      <th>3945</th>\n",
       "      <td>14424</td>\n",
       "      <td>https://medium.com/towards-data-science/normal...</td>\n",
       "      <td>Normalization vs Standardization — Quantitativ...</td>\n",
       "      <td>Stop using StandardScaler from Sklearn as a de...</td>\n",
       "      <td>Shay Geller</td>\n",
       "      <td>2019-04-04</td>\n",
       "      <td>https://medium.com/@farhanhanavi07/list/applie...</td>\n",
       "      <td>artificial-intelligence</td>\n",
       "    </tr>\n",
       "    <tr>\n",
       "      <th>3946</th>\n",
       "      <td>18949</td>\n",
       "      <td>https://medium.com/@petruknisme/getting-starte...</td>\n",
       "      <td>Getting Started with Covenant C2 for Red Teaming</td>\n",
       "      <td>Command and Control is part of Red Teaming tac...</td>\n",
       "      <td>Aan</td>\n",
       "      <td>2021-11-21</td>\n",
       "      <td>https://medium.com/@jimmy.winghang/list/mitre-...</td>\n",
       "      <td>software-development</td>\n",
       "    </tr>\n",
       "    <tr>\n",
       "      <th>3947</th>\n",
       "      <td>9305</td>\n",
       "      <td>https://medium.com/towards-data-science/how-to...</td>\n",
       "      <td>How to Create a Vector-Based Movie Recommendat...</td>\n",
       "      <td>Building a movie recommendation system using t...</td>\n",
       "      <td>Michelangiolo Mazzeschi</td>\n",
       "      <td>2021-12-10</td>\n",
       "      <td>https://medium.com/@subhasis.jethy/list/recomm...</td>\n",
       "      <td>artificial-intelligence</td>\n",
       "    </tr>\n",
       "    <tr>\n",
       "      <th>3948</th>\n",
       "      <td>24337</td>\n",
       "      <td>https://medium.com/towards-data-science/how-to...</td>\n",
       "      <td>How to Use Pandas for Big Data</td>\n",
       "      <td>Run distributed workload with Pandas on Spark ...</td>\n",
       "      <td>Edwin Tan</td>\n",
       "      <td>2022-01-25</td>\n",
       "      <td>https://medium.com/@jethro_torczon/list/big-da...</td>\n",
       "      <td>artificial-intelligence</td>\n",
       "    </tr>\n",
       "    <tr>\n",
       "      <th>3949</th>\n",
       "      <td>7662</td>\n",
       "      <td>https://medium.com/towards-data-science/a-prac...</td>\n",
       "      <td>A Practical Guide to Build an Enterprise Knowl...</td>\n",
       "      <td>How to solve the practical problems when build...</td>\n",
       "      <td>Xu LIANG</td>\n",
       "      <td>2019-10-23</td>\n",
       "      <td>https://medium.com/@adambouras1/list/semantic-...</td>\n",
       "      <td>artificial-intelligence</td>\n",
       "    </tr>\n",
       "  </tbody>\n",
       "</table>\n",
       "<p>3950 rows × 8 columns</p>\n",
       "</div>"
      ],
      "text/plain": [
       "      index                                            article  \\\n",
       "0      2291  https://medium.com/towards-data-science/how-to...   \n",
       "1      7292  https://medium.com/towards-data-science/surviv...   \n",
       "2      6768  https://medium.com/experience-stack/embrace-co...   \n",
       "3     15003  https://medium.com/towards-data-science/every-...   \n",
       "4     19782  https://medium.com/towards-data-science/macroe...   \n",
       "...     ...                                                ...   \n",
       "3945  14424  https://medium.com/towards-data-science/normal...   \n",
       "3946  18949  https://medium.com/@petruknisme/getting-starte...   \n",
       "3947   9305  https://medium.com/towards-data-science/how-to...   \n",
       "3948  24337  https://medium.com/towards-data-science/how-to...   \n",
       "3949   7662  https://medium.com/towards-data-science/a-prac...   \n",
       "\n",
       "                                                  title  \\\n",
       "0     How to Use the IBM Watson Tone Analyzer to Per...   \n",
       "1     Survival Analysis: Intuition & Implementation ...   \n",
       "2                           Embrace Complexity (Part 1)   \n",
       "3     Every Complex DataFrame Manipulation, Explaine...   \n",
       "4     Macroeconomic & Financial Factors and Ordinary...   \n",
       "...                                                 ...   \n",
       "3945  Normalization vs Standardization — Quantitativ...   \n",
       "3946   Getting Started with Covenant C2 for Red Teaming   \n",
       "3947  How to Create a Vector-Based Movie Recommendat...   \n",
       "3948                     How to Use Pandas for Big Data   \n",
       "3949  A Practical Guide to Build an Enterprise Knowl...   \n",
       "\n",
       "                                               subtitle  \\\n",
       "0     How to use the IBM Watson Artificial Intellige...   \n",
       "1     There is a statistical technique which can ans...   \n",
       "2     Why all organisations should build internal ne...   \n",
       "3     Melts, pivots, joins, explodes, & more — Panda...   \n",
       "4     Econometrics model using Arbitrage Pricing The...   \n",
       "...                                                 ...   \n",
       "3945  Stop using StandardScaler from Sklearn as a de...   \n",
       "3946  Command and Control is part of Red Teaming tac...   \n",
       "3947  Building a movie recommendation system using t...   \n",
       "3948  Run distributed workload with Pandas on Spark ...   \n",
       "3949  How to solve the practical problems when build...   \n",
       "\n",
       "                       author        date  \\\n",
       "0             Graham Harrison  2022-01-02   \n",
       "1               Anurag Pandey  2019-01-06   \n",
       "2                  Tony Seale  2022-02-04   \n",
       "3                    Andre Ye  2020-07-22   \n",
       "4                Sarit Maitra  2020-06-27   \n",
       "...                       ...         ...   \n",
       "3945              Shay Geller  2019-04-04   \n",
       "3946                      Aan  2021-11-21   \n",
       "3947  Michelangiolo Mazzeschi  2021-12-10   \n",
       "3948                Edwin Tan  2022-01-25   \n",
       "3949                 Xu LIANG  2019-10-23   \n",
       "\n",
       "                                                   list  \\\n",
       "0     https://medium.com/@4ndres.gaviria/list/nlp-to...   \n",
       "1     https://medium.com/@jz5246/list/analytics-559c...   \n",
       "2     https://medium.com/@yasha.brener/list/data-man...   \n",
       "3     https://medium.com/@4ndres.gaviria/list/dataop...   \n",
       "4     https://medium.com/@halo9pan/list/quantitative...   \n",
       "...                                                 ...   \n",
       "3945  https://medium.com/@farhanhanavi07/list/applie...   \n",
       "3946  https://medium.com/@jimmy.winghang/list/mitre-...   \n",
       "3947  https://medium.com/@subhasis.jethy/list/recomm...   \n",
       "3948  https://medium.com/@jethro_torczon/list/big-da...   \n",
       "3949  https://medium.com/@adambouras1/list/semantic-...   \n",
       "\n",
       "                       labels  \n",
       "0     artificial-intelligence  \n",
       "1     artificial-intelligence  \n",
       "2        software-development  \n",
       "3     artificial-intelligence  \n",
       "4        software-development  \n",
       "...                       ...  \n",
       "3945  artificial-intelligence  \n",
       "3946     software-development  \n",
       "3947  artificial-intelligence  \n",
       "3948  artificial-intelligence  \n",
       "3949  artificial-intelligence  \n",
       "\n",
       "[3950 rows x 8 columns]"
      ]
     },
     "execution_count": 5,
     "metadata": {},
     "output_type": "execute_result"
    }
   ],
   "source": [
    "test = read_data(\"data/pipeline_assignment_data\",\"test\")\n",
    "test"
   ]
  },
  {
   "cell_type": "code",
   "execution_count": 6,
   "metadata": {},
   "outputs": [
    {
     "data": {
      "text/plain": [
       "labels\n",
       "software-development       11586\n",
       "artificial-intelligence    10646\n",
       "ux                           150\n",
       "Name: count, dtype: int64"
      ]
     },
     "execution_count": 6,
     "metadata": {},
     "output_type": "execute_result"
    }
   ],
   "source": [
    "train[\"labels\"].value_counts()"
   ]
  },
  {
   "cell_type": "code",
   "execution_count": 7,
   "metadata": {},
   "outputs": [
    {
     "data": {
      "text/plain": [
       "labels\n",
       "software-development       2022\n",
       "artificial-intelligence    1899\n",
       "ux                           29\n",
       "Name: count, dtype: int64"
      ]
     },
     "execution_count": 7,
     "metadata": {},
     "output_type": "execute_result"
    }
   ],
   "source": [
    "test[\"labels\"].value_counts()"
   ]
  },
  {
   "cell_type": "code",
   "execution_count": 8,
   "metadata": {},
   "outputs": [
    {
     "data": {
      "text/plain": [
       "0        With Kazam and ffmpeg on GNU/Linux systems — I...\n",
       "1        A tutorial on how to deploy SpaCy with AWS. — ...\n",
       "2        Are you a senior analyst growing towards a man...\n",
       "3        My Dart Google Summer of Code 2021 experience....\n",
       "4        Understand how to discover multicollinearity i...\n",
       "                               ...                        \n",
       "22377    How to design your own graph using TigerGraph ...\n",
       "22378    Automate the editing of explainer videos to cr...\n",
       "22379    Faster Python Code With Numba — The Speed Issu...\n",
       "22380    Julia is used for a lot of deeply technical ap...\n",
       "22381    For years now, most of us have heard the word ...\n",
       "Name: subtitle, Length: 22382, dtype: object"
      ]
     },
     "execution_count": 8,
     "metadata": {},
     "output_type": "execute_result"
    }
   ],
   "source": [
    "train.subtitle"
   ]
  },
  {
   "cell_type": "code",
   "execution_count": 9,
   "metadata": {},
   "outputs": [],
   "source": [
    "from sklearn.feature_extraction.text import CountVectorizer\n",
    "from sklearn.feature_extraction.text import TfidfVectorizer\n",
    "from sklearn.preprocessing import LabelEncoder\n",
    "\n",
    "multilabel_binarizer = LabelEncoder()\n",
    "multilabel_binarizer.fit(train[\"labels\"])\n",
    "\n",
    "Y = multilabel_binarizer.transform(train[\"labels\"])\n",
    "texts = [x[0]+\" \" + x[1] for x in zip(train.title,train.subtitle)]"
   ]
  },
  {
   "cell_type": "code",
   "execution_count": 10,
   "metadata": {},
   "outputs": [
    {
     "data": {
      "text/plain": [
       "27718"
      ]
     },
     "execution_count": 10,
     "metadata": {},
     "output_type": "execute_result"
    }
   ],
   "source": [
    "len(list(set(final_data.index)))"
   ]
  },
  {
   "cell_type": "code",
   "execution_count": 11,
   "metadata": {},
   "outputs": [],
   "source": [
    "from gensim.models import Word2Vec\n",
    "all_texts = [x[0]+\" \" + x[1] for x in zip(final_data.title,final_data.subtitle)]\n",
    "\n",
    "word2vec_model = Word2Vec([text.split(\" \") for text in all_texts], vector_size=128, window=10, epochs=30, sg=1, workers=4,min_count=1)"
   ]
  },
  {
   "cell_type": "code",
   "execution_count": 12,
   "metadata": {},
   "outputs": [
    {
     "data": {
      "text/plain": [
       "array([1, 0, 0, ..., 0, 1, 1])"
      ]
     },
     "execution_count": 12,
     "metadata": {},
     "output_type": "execute_result"
    }
   ],
   "source": [
    "Y"
   ]
  },
  {
   "cell_type": "code",
   "execution_count": 13,
   "metadata": {},
   "outputs": [
    {
     "name": "stdout",
     "output_type": "stream",
     "text": [
      "(22382, 128)\n"
     ]
    }
   ],
   "source": [
    "from sklearn.svm import SVC\n",
    "embeddings = []\n",
    "\n",
    "for text in texts:\n",
    "    embeddings.append(np.mean([word2vec_model.wv[word] for word in text.split(\" \")], axis=0))\n",
    "print(np.vstack(embeddings).shape)\n",
    "X_word2vec = np.vstack(embeddings)\n"
   ]
  },
  {
   "cell_type": "code",
   "execution_count": 14,
   "metadata": {},
   "outputs": [
    {
     "data": {
      "text/html": [
       "<style>#sk-container-id-1 {color: black;background-color: white;}#sk-container-id-1 pre{padding: 0;}#sk-container-id-1 div.sk-toggleable {background-color: white;}#sk-container-id-1 label.sk-toggleable__label {cursor: pointer;display: block;width: 100%;margin-bottom: 0;padding: 0.3em;box-sizing: border-box;text-align: center;}#sk-container-id-1 label.sk-toggleable__label-arrow:before {content: \"▸\";float: left;margin-right: 0.25em;color: #696969;}#sk-container-id-1 label.sk-toggleable__label-arrow:hover:before {color: black;}#sk-container-id-1 div.sk-estimator:hover label.sk-toggleable__label-arrow:before {color: black;}#sk-container-id-1 div.sk-toggleable__content {max-height: 0;max-width: 0;overflow: hidden;text-align: left;background-color: #f0f8ff;}#sk-container-id-1 div.sk-toggleable__content pre {margin: 0.2em;color: black;border-radius: 0.25em;background-color: #f0f8ff;}#sk-container-id-1 input.sk-toggleable__control:checked~div.sk-toggleable__content {max-height: 200px;max-width: 100%;overflow: auto;}#sk-container-id-1 input.sk-toggleable__control:checked~label.sk-toggleable__label-arrow:before {content: \"▾\";}#sk-container-id-1 div.sk-estimator input.sk-toggleable__control:checked~label.sk-toggleable__label {background-color: #d4ebff;}#sk-container-id-1 div.sk-label input.sk-toggleable__control:checked~label.sk-toggleable__label {background-color: #d4ebff;}#sk-container-id-1 input.sk-hidden--visually {border: 0;clip: rect(1px 1px 1px 1px);clip: rect(1px, 1px, 1px, 1px);height: 1px;margin: -1px;overflow: hidden;padding: 0;position: absolute;width: 1px;}#sk-container-id-1 div.sk-estimator {font-family: monospace;background-color: #f0f8ff;border: 1px dotted black;border-radius: 0.25em;box-sizing: border-box;margin-bottom: 0.5em;}#sk-container-id-1 div.sk-estimator:hover {background-color: #d4ebff;}#sk-container-id-1 div.sk-parallel-item::after {content: \"\";width: 100%;border-bottom: 1px solid gray;flex-grow: 1;}#sk-container-id-1 div.sk-label:hover label.sk-toggleable__label {background-color: #d4ebff;}#sk-container-id-1 div.sk-serial::before {content: \"\";position: absolute;border-left: 1px solid gray;box-sizing: border-box;top: 0;bottom: 0;left: 50%;z-index: 0;}#sk-container-id-1 div.sk-serial {display: flex;flex-direction: column;align-items: center;background-color: white;padding-right: 0.2em;padding-left: 0.2em;position: relative;}#sk-container-id-1 div.sk-item {position: relative;z-index: 1;}#sk-container-id-1 div.sk-parallel {display: flex;align-items: stretch;justify-content: center;background-color: white;position: relative;}#sk-container-id-1 div.sk-item::before, #sk-container-id-1 div.sk-parallel-item::before {content: \"\";position: absolute;border-left: 1px solid gray;box-sizing: border-box;top: 0;bottom: 0;left: 50%;z-index: -1;}#sk-container-id-1 div.sk-parallel-item {display: flex;flex-direction: column;z-index: 1;position: relative;background-color: white;}#sk-container-id-1 div.sk-parallel-item:first-child::after {align-self: flex-end;width: 50%;}#sk-container-id-1 div.sk-parallel-item:last-child::after {align-self: flex-start;width: 50%;}#sk-container-id-1 div.sk-parallel-item:only-child::after {width: 0;}#sk-container-id-1 div.sk-dashed-wrapped {border: 1px dashed gray;margin: 0 0.4em 0.5em 0.4em;box-sizing: border-box;padding-bottom: 0.4em;background-color: white;}#sk-container-id-1 div.sk-label label {font-family: monospace;font-weight: bold;display: inline-block;line-height: 1.2em;}#sk-container-id-1 div.sk-label-container {text-align: center;}#sk-container-id-1 div.sk-container {/* jupyter's `normalize.less` sets `[hidden] { display: none; }` but bootstrap.min.css set `[hidden] { display: none !important; }` so we also need the `!important` here to be able to override the default hidden behavior on the sphinx rendered scikit-learn.org. See: https://github.com/scikit-learn/scikit-learn/issues/21755 */display: inline-block !important;position: relative;}#sk-container-id-1 div.sk-text-repr-fallback {display: none;}</style><div id=\"sk-container-id-1\" class=\"sk-top-container\"><div class=\"sk-text-repr-fallback\"><pre>SVC()</pre><b>In a Jupyter environment, please rerun this cell to show the HTML representation or trust the notebook. <br />On GitHub, the HTML representation is unable to render, please try loading this page with nbviewer.org.</b></div><div class=\"sk-container\" hidden><div class=\"sk-item\"><div class=\"sk-estimator sk-toggleable\"><input class=\"sk-toggleable__control sk-hidden--visually\" id=\"sk-estimator-id-1\" type=\"checkbox\" checked><label for=\"sk-estimator-id-1\" class=\"sk-toggleable__label sk-toggleable__label-arrow\">SVC</label><div class=\"sk-toggleable__content\"><pre>SVC()</pre></div></div></div></div></div>"
      ],
      "text/plain": [
       "SVC()"
      ]
     },
     "execution_count": 14,
     "metadata": {},
     "output_type": "execute_result"
    }
   ],
   "source": [
    "svc = SVC()\n",
    "svc.fit(X_word2vec,Y)"
   ]
  },
  {
   "cell_type": "code",
   "execution_count": 15,
   "metadata": {},
   "outputs": [
    {
     "name": "stdout",
     "output_type": "stream",
     "text": [
      "(3950, 128)\n"
     ]
    }
   ],
   "source": [
    "test_embeddings = []\n",
    "text_texts = [x[0]+\" \" + x[1] for x in zip(test.title,test.subtitle)]\n",
    "\n",
    "for text in text_texts:\n",
    "    test_embeddings.append(np.mean([word2vec_model.wv[word] for word in text.split(\" \")], axis=0))\n",
    "print(np.vstack(test_embeddings).shape)\n",
    "X_word2vec_test = np.vstack(test_embeddings)\n"
   ]
  },
  {
   "cell_type": "code",
   "execution_count": 16,
   "metadata": {},
   "outputs": [],
   "source": [
    "predictions = svc.predict(X_word2vec_test)"
   ]
  },
  {
   "cell_type": "code",
   "execution_count": 17,
   "metadata": {},
   "outputs": [
    {
     "data": {
      "text/plain": [
       "array([0, 0, 1, ..., 0, 0, 0])"
      ]
     },
     "execution_count": 17,
     "metadata": {},
     "output_type": "execute_result"
    }
   ],
   "source": [
    "Y_test = multilabel_binarizer.transform(test[\"labels\"])\n",
    "\n",
    "Y_test"
   ]
  },
  {
   "cell_type": "code",
   "execution_count": 18,
   "metadata": {},
   "outputs": [
    {
     "name": "stdout",
     "output_type": "stream",
     "text": [
      "0.5532588166475448\n"
     ]
    }
   ],
   "source": [
    "from sklearn import metrics\n",
    "print(metrics.f1_score(Y_test, predictions,average=\"macro\"))\n"
   ]
  },
  {
   "cell_type": "code",
   "execution_count": 19,
   "metadata": {},
   "outputs": [
    {
     "name": "stdout",
     "output_type": "stream",
     "text": [
      "              precision    recall  f1-score   support\n",
      "\n",
      "           0       0.81      0.85      0.83      1899\n",
      "           1       0.84      0.82      0.83      2022\n",
      "           2       0.00      0.00      0.00        29\n",
      "\n",
      "    accuracy                           0.83      3950\n",
      "   macro avg       0.55      0.56      0.55      3950\n",
      "weighted avg       0.82      0.83      0.82      3950\n",
      "\n"
     ]
    },
    {
     "name": "stderr",
     "output_type": "stream",
     "text": [
      "/Users/venktesh_1/miniconda3/envs/skill_area_mapper/lib/python3.8/site-packages/sklearn/metrics/_classification.py:1344: UndefinedMetricWarning: Precision and F-score are ill-defined and being set to 0.0 in labels with no predicted samples. Use `zero_division` parameter to control this behavior.\n",
      "  _warn_prf(average, modifier, msg_start, len(result))\n",
      "/Users/venktesh_1/miniconda3/envs/skill_area_mapper/lib/python3.8/site-packages/sklearn/metrics/_classification.py:1344: UndefinedMetricWarning: Precision and F-score are ill-defined and being set to 0.0 in labels with no predicted samples. Use `zero_division` parameter to control this behavior.\n",
      "  _warn_prf(average, modifier, msg_start, len(result))\n",
      "/Users/venktesh_1/miniconda3/envs/skill_area_mapper/lib/python3.8/site-packages/sklearn/metrics/_classification.py:1344: UndefinedMetricWarning: Precision and F-score are ill-defined and being set to 0.0 in labels with no predicted samples. Use `zero_division` parameter to control this behavior.\n",
      "  _warn_prf(average, modifier, msg_start, len(result))\n"
     ]
    }
   ],
   "source": [
    "print(metrics.classification_report(Y_test, predictions))\n"
   ]
  },
  {
   "cell_type": "markdown",
   "metadata": {},
   "source": [
    "# Form graph"
   ]
  },
  {
   "cell_type": "code",
   "execution_count": 20,
   "metadata": {},
   "outputs": [],
   "source": [
    "\n",
    "\n",
    "from typing import List,Dict\n",
    "\n",
    "\n",
    "def get_edges(data: pd.DataFrame, nodes) -> List:\n",
    "    \"\"\" Given the dataframe with articles and lists return the set of edges\n",
    "        Args:\n",
    "        data (pd.DataFrame): The medium dataset\n",
    "        nodes (dict): List of nodes\n",
    "    Returns:\n",
    "            nodes: dict (nodeid: article title)\"\"\"\n",
    "    edges = []    \n",
    "    ## START\n",
    "    \n",
    "    ##END\n",
    "    return edges\n",
    "\n",
    "\n"
   ]
  },
  {
   "cell_type": "code",
   "execution_count": null,
   "metadata": {},
   "outputs": [],
   "source": []
  },
  {
   "cell_type": "code",
   "execution_count": 21,
   "metadata": {},
   "outputs": [],
   "source": [
    "def get_nodes(data: pd.DataFrame) -> Dict:\n",
    "    \"\"\" Given the dataframe with articles and lists return the set of nodes\n",
    "        Args:\n",
    "        data (pd.DataFrame): The medium dataset\n",
    "    Returns:\n",
    "        nodes: dict (nodeid: article title)\"\"\"\n",
    "    nodes = {}\n",
    "    for index, row in data.iterrows():\n",
    "        if index not in nodes:\n",
    "            nodes[index] = row[\"title\"]\n",
    "    print(len(nodes))\n",
    "    return nodes"
   ]
  },
  {
   "cell_type": "code",
   "execution_count": 22,
   "metadata": {},
   "outputs": [],
   "source": [
    "import networkx as nx\n",
    "def form_graph(data: pd.DataFrame) -> nx.Graph:\n",
    "    \"\"\"Forms graph from medium article dataset.\n",
    "\n",
    "    Args:\n",
    "        data (pd.DataFrame): The medium dataset\n",
    "\n",
    "    Returns:\n",
    "        G (nx.Graph): The graph.\n",
    "\n",
    "       \"\"\"\n",
    "    texts = [x[0]+\" \" + x[1] for x in zip(data.title,data.subtitle)]\n",
    "    nodes = get_nodes(data)\n",
    "    edges = get_edges(data, nodes)\n",
    "    graph = nx.Graph()\n",
    "    graph.add_nodes_from(list(nodes.keys()))\n",
    "    graph.add_edges_from(edges)\n",
    "    return graph\n"
   ]
  },
  {
   "cell_type": "code",
   "execution_count": 23,
   "metadata": {},
   "outputs": [
    {
     "name": "stdout",
     "output_type": "stream",
     "text": [
      "27718\n"
     ]
    }
   ],
   "source": [
    "graph = form_graph(final_data)\n"
   ]
  },
  {
   "cell_type": "code",
   "execution_count": 24,
   "metadata": {},
   "outputs": [
    {
     "data": {
      "text/plain": [
       "1332110"
      ]
     },
     "execution_count": 24,
     "metadata": {},
     "output_type": "execute_result"
    }
   ],
   "source": [
    "len(list(graph.edges()))"
   ]
  },
  {
   "cell_type": "markdown",
   "metadata": {},
   "source": [
    "# Node2Vec"
   ]
  },
  {
   "cell_type": "code",
   "execution_count": 25,
   "metadata": {},
   "outputs": [],
   "source": [
    "# Find isolated nodes with no neighbors before random walks\n",
    "isolated = [x for x in nx.isolates(graph)]"
   ]
  },
  {
   "cell_type": "code",
   "execution_count": 26,
   "metadata": {},
   "outputs": [],
   "source": [
    "def random_walks(G: nx.Graph, num_walks: int, walk_length: int, isolated: List) -> np.ndarray:\n",
    "    \"\"\"Perform random walks on the graph.\n",
    "\n",
    "    Args:\n",
    "        G (nx.Graph): The graph.\n",
    "        num_walks (int): The number of random walks for each node.\n",
    "        walk_length (int): The number of nodes in a random walk.\n",
    "\n",
    "    Returns:\n",
    "        np.ndarray: The random walks, shape (n_nodes * num_walks, walk_length)\n",
    "    \"\"\"\n",
    "    result = []\n",
    "    ### START\n",
    "    \n",
    "    ## END\n",
    "    return np.asarray(result)"
   ]
  },
  {
   "cell_type": "code",
   "execution_count": 27,
   "metadata": {},
   "outputs": [],
   "source": [
    "walks = random_walks(graph, 8, 15,isolated)"
   ]
  },
  {
   "cell_type": "code",
   "execution_count": 28,
   "metadata": {},
   "outputs": [],
   "source": [
    "from gensim.models import Word2Vec\n",
    "def fit_node2vec(walks: np.ndarray, vector_size: int, window: int, epochs: int) -> Word2Vec:\n",
    "    \"\"\"Train a Node2Vec model on random walks. Uses the GenSim Word2Vec implementation.\n",
    "\n",
    "    Args:\n",
    "        walks (np.ndarray): The random walks.\n",
    "        vector_size (int): Node representation size.\n",
    "        window (int): Window width.\n",
    "        epochs (int): Number of epochs.\n",
    "\n",
    "    Returns:\n",
    "        Word2Vec: The trained model.\n",
    "    \"\"\"\n",
    "   ### START"
   ]
  },
  {
   "cell_type": "code",
   "execution_count": 29,
   "metadata": {},
   "outputs": [],
   "source": [
    "model = fit_node2vec(walks, 128, 5, 10)"
   ]
  },
  {
   "cell_type": "code",
   "execution_count": 30,
   "metadata": {},
   "outputs": [],
   "source": [
    "#embeddings = {doc: model.dv[doc] for doc in model.dv.index_to_key}\n"
   ]
  },
  {
   "cell_type": "code",
   "execution_count": 31,
   "metadata": {},
   "outputs": [],
   "source": [
    "def get_nodeids(data: pd.DataFrame):\n",
    "    nodes = {}\n",
    "    for index, row in data.iterrows():\n",
    "        if row[\"index\"] not in nodes:\n",
    "            nodes[row[\"index\"]] = row[\"title\"]\n",
    "    return nodes"
   ]
  },
  {
   "cell_type": "code",
   "execution_count": 32,
   "metadata": {},
   "outputs": [],
   "source": [
    "train_nodes = get_nodeids(train)\n",
    "test_nodes = get_nodeids(test)\n",
    "train_nodes = list(train_nodes.keys())\n",
    "test_nodes = list(test_nodes.keys())"
   ]
  },
  {
   "cell_type": "code",
   "execution_count": 33,
   "metadata": {},
   "outputs": [
    {
     "data": {
      "text/plain": [
       "3950"
      ]
     },
     "execution_count": 33,
     "metadata": {},
     "output_type": "execute_result"
    }
   ],
   "source": [
    "len(test_nodes)"
   ]
  },
  {
   "cell_type": "code",
   "execution_count": 34,
   "metadata": {},
   "outputs": [],
   "source": [
    "embeddings = {word: model.wv[word] for word in model.wv.index_to_key}\n"
   ]
  },
  {
   "cell_type": "code",
   "execution_count": 35,
   "metadata": {},
   "outputs": [],
   "source": [
    "import scipy\n",
    "X_train_n2v = np.hstack(\n",
    "    (\n",
    "        X_word2vec, np.array([embeddings[str(x)] if x not in isolated else X_word2vec[idx] for idx, x in enumerate(train_nodes)  ], dtype=np.float32),\n",
    "\n",
    "    )\n",
    ")\n",
    "X_test_n2v =np.hstack(\n",
    "    (\n",
    "        X_word2vec_test,\n",
    "        np.array([embeddings[str(x)] if x not in isolated else X_word2vec_test[idx] for idx, x in enumerate(test_nodes)  ], dtype=np.float32),\n",
    "    )\n",
    ")"
   ]
  },
  {
   "cell_type": "code",
   "execution_count": null,
   "metadata": {},
   "outputs": [],
   "source": []
  },
  {
   "cell_type": "code",
   "execution_count": 36,
   "metadata": {},
   "outputs": [
    {
     "data": {
      "text/plain": [
       "((3950, 256), (22382, 256))"
      ]
     },
     "execution_count": 36,
     "metadata": {},
     "output_type": "execute_result"
    }
   ],
   "source": [
    "X_test_n2v.shape,X_train_n2v.shape"
   ]
  },
  {
   "cell_type": "code",
   "execution_count": 37,
   "metadata": {},
   "outputs": [
    {
     "data": {
      "text/plain": [
       "(22382, 256)"
      ]
     },
     "execution_count": 37,
     "metadata": {},
     "output_type": "execute_result"
    }
   ],
   "source": [
    "X_train_n2v.shape"
   ]
  },
  {
   "cell_type": "code",
   "execution_count": 38,
   "metadata": {},
   "outputs": [
    {
     "data": {
      "text/html": [
       "<style>#sk-container-id-2 {color: black;background-color: white;}#sk-container-id-2 pre{padding: 0;}#sk-container-id-2 div.sk-toggleable {background-color: white;}#sk-container-id-2 label.sk-toggleable__label {cursor: pointer;display: block;width: 100%;margin-bottom: 0;padding: 0.3em;box-sizing: border-box;text-align: center;}#sk-container-id-2 label.sk-toggleable__label-arrow:before {content: \"▸\";float: left;margin-right: 0.25em;color: #696969;}#sk-container-id-2 label.sk-toggleable__label-arrow:hover:before {color: black;}#sk-container-id-2 div.sk-estimator:hover label.sk-toggleable__label-arrow:before {color: black;}#sk-container-id-2 div.sk-toggleable__content {max-height: 0;max-width: 0;overflow: hidden;text-align: left;background-color: #f0f8ff;}#sk-container-id-2 div.sk-toggleable__content pre {margin: 0.2em;color: black;border-radius: 0.25em;background-color: #f0f8ff;}#sk-container-id-2 input.sk-toggleable__control:checked~div.sk-toggleable__content {max-height: 200px;max-width: 100%;overflow: auto;}#sk-container-id-2 input.sk-toggleable__control:checked~label.sk-toggleable__label-arrow:before {content: \"▾\";}#sk-container-id-2 div.sk-estimator input.sk-toggleable__control:checked~label.sk-toggleable__label {background-color: #d4ebff;}#sk-container-id-2 div.sk-label input.sk-toggleable__control:checked~label.sk-toggleable__label {background-color: #d4ebff;}#sk-container-id-2 input.sk-hidden--visually {border: 0;clip: rect(1px 1px 1px 1px);clip: rect(1px, 1px, 1px, 1px);height: 1px;margin: -1px;overflow: hidden;padding: 0;position: absolute;width: 1px;}#sk-container-id-2 div.sk-estimator {font-family: monospace;background-color: #f0f8ff;border: 1px dotted black;border-radius: 0.25em;box-sizing: border-box;margin-bottom: 0.5em;}#sk-container-id-2 div.sk-estimator:hover {background-color: #d4ebff;}#sk-container-id-2 div.sk-parallel-item::after {content: \"\";width: 100%;border-bottom: 1px solid gray;flex-grow: 1;}#sk-container-id-2 div.sk-label:hover label.sk-toggleable__label {background-color: #d4ebff;}#sk-container-id-2 div.sk-serial::before {content: \"\";position: absolute;border-left: 1px solid gray;box-sizing: border-box;top: 0;bottom: 0;left: 50%;z-index: 0;}#sk-container-id-2 div.sk-serial {display: flex;flex-direction: column;align-items: center;background-color: white;padding-right: 0.2em;padding-left: 0.2em;position: relative;}#sk-container-id-2 div.sk-item {position: relative;z-index: 1;}#sk-container-id-2 div.sk-parallel {display: flex;align-items: stretch;justify-content: center;background-color: white;position: relative;}#sk-container-id-2 div.sk-item::before, #sk-container-id-2 div.sk-parallel-item::before {content: \"\";position: absolute;border-left: 1px solid gray;box-sizing: border-box;top: 0;bottom: 0;left: 50%;z-index: -1;}#sk-container-id-2 div.sk-parallel-item {display: flex;flex-direction: column;z-index: 1;position: relative;background-color: white;}#sk-container-id-2 div.sk-parallel-item:first-child::after {align-self: flex-end;width: 50%;}#sk-container-id-2 div.sk-parallel-item:last-child::after {align-self: flex-start;width: 50%;}#sk-container-id-2 div.sk-parallel-item:only-child::after {width: 0;}#sk-container-id-2 div.sk-dashed-wrapped {border: 1px dashed gray;margin: 0 0.4em 0.5em 0.4em;box-sizing: border-box;padding-bottom: 0.4em;background-color: white;}#sk-container-id-2 div.sk-label label {font-family: monospace;font-weight: bold;display: inline-block;line-height: 1.2em;}#sk-container-id-2 div.sk-label-container {text-align: center;}#sk-container-id-2 div.sk-container {/* jupyter's `normalize.less` sets `[hidden] { display: none; }` but bootstrap.min.css set `[hidden] { display: none !important; }` so we also need the `!important` here to be able to override the default hidden behavior on the sphinx rendered scikit-learn.org. See: https://github.com/scikit-learn/scikit-learn/issues/21755 */display: inline-block !important;position: relative;}#sk-container-id-2 div.sk-text-repr-fallback {display: none;}</style><div id=\"sk-container-id-2\" class=\"sk-top-container\"><div class=\"sk-text-repr-fallback\"><pre>SVC()</pre><b>In a Jupyter environment, please rerun this cell to show the HTML representation or trust the notebook. <br />On GitHub, the HTML representation is unable to render, please try loading this page with nbviewer.org.</b></div><div class=\"sk-container\" hidden><div class=\"sk-item\"><div class=\"sk-estimator sk-toggleable\"><input class=\"sk-toggleable__control sk-hidden--visually\" id=\"sk-estimator-id-2\" type=\"checkbox\" checked><label for=\"sk-estimator-id-2\" class=\"sk-toggleable__label sk-toggleable__label-arrow\">SVC</label><div class=\"sk-toggleable__content\"><pre>SVC()</pre></div></div></div></div></div>"
      ],
      "text/plain": [
       "SVC()"
      ]
     },
     "execution_count": 38,
     "metadata": {},
     "output_type": "execute_result"
    }
   ],
   "source": [
    "from sklearn.multiclass import OneVsRestClassifier\n",
    "from sklearn.svm import LinearSVC,SVC\n",
    "\n",
    "svc = SVC()\n",
    "svc.fit(X_train_n2v,Y)"
   ]
  },
  {
   "cell_type": "code",
   "execution_count": 39,
   "metadata": {},
   "outputs": [
    {
     "data": {
      "text/plain": [
       "(22382,)"
      ]
     },
     "execution_count": 39,
     "metadata": {},
     "output_type": "execute_result"
    }
   ],
   "source": [
    "Y.shape"
   ]
  },
  {
   "cell_type": "code",
   "execution_count": 40,
   "metadata": {},
   "outputs": [
    {
     "data": {
      "text/plain": [
       "(3950, 256)"
      ]
     },
     "execution_count": 40,
     "metadata": {},
     "output_type": "execute_result"
    }
   ],
   "source": [
    "X_test_n2v.shape"
   ]
  },
  {
   "cell_type": "code",
   "execution_count": null,
   "metadata": {},
   "outputs": [],
   "source": []
  },
  {
   "cell_type": "code",
   "execution_count": 41,
   "metadata": {},
   "outputs": [],
   "source": [
    "predictions = svc.predict(X_test_n2v)"
   ]
  },
  {
   "cell_type": "code",
   "execution_count": 42,
   "metadata": {},
   "outputs": [
    {
     "data": {
      "text/plain": [
       "array([0, 0, 1, ..., 0, 0, 0])"
      ]
     },
     "execution_count": 42,
     "metadata": {},
     "output_type": "execute_result"
    }
   ],
   "source": [
    "predictions"
   ]
  },
  {
   "cell_type": "code",
   "execution_count": 43,
   "metadata": {},
   "outputs": [
    {
     "name": "stdout",
     "output_type": "stream",
     "text": [
      "0.7387014873008392\n"
     ]
    }
   ],
   "source": [
    "from sklearn import metrics\n",
    "print(metrics.f1_score(Y_test, predictions,average=\"macro\"))\n"
   ]
  },
  {
   "cell_type": "code",
   "execution_count": 44,
   "metadata": {},
   "outputs": [
    {
     "name": "stdout",
     "output_type": "stream",
     "text": [
      "              precision    recall  f1-score   support\n",
      "\n",
      "           0       0.79      0.88      0.83      1899\n",
      "           1       0.87      0.79      0.82      2022\n",
      "           2       0.86      0.41      0.56        29\n",
      "\n",
      "    accuracy                           0.83      3950\n",
      "   macro avg       0.84      0.69      0.74      3950\n",
      "weighted avg       0.83      0.83      0.83      3950\n",
      "\n"
     ]
    }
   ],
   "source": [
    "print(metrics.classification_report(Y_test, predictions))\n"
   ]
  },
  {
   "cell_type": "markdown",
   "metadata": {},
   "source": [
    "# Only node2vec features"
   ]
  },
  {
   "cell_type": "code",
   "execution_count": 45,
   "metadata": {},
   "outputs": [],
   "source": [
    "import scipy\n",
    "X_train_n2v =  np.array([embeddings[str(x)] if x not in isolated else np.zeros((128)) for idx, x in enumerate(train_nodes)  ], dtype=np.float32)\n",
    "\n",
    "X_test_n2v =np.array([embeddings[str(x)] if x not in isolated else np.zeros((128)) for idx, x in enumerate(test_nodes)  ], dtype=np.float32)\n",
    " "
   ]
  },
  {
   "cell_type": "code",
   "execution_count": 46,
   "metadata": {},
   "outputs": [
    {
     "data": {
      "text/html": [
       "<style>#sk-container-id-3 {color: black;background-color: white;}#sk-container-id-3 pre{padding: 0;}#sk-container-id-3 div.sk-toggleable {background-color: white;}#sk-container-id-3 label.sk-toggleable__label {cursor: pointer;display: block;width: 100%;margin-bottom: 0;padding: 0.3em;box-sizing: border-box;text-align: center;}#sk-container-id-3 label.sk-toggleable__label-arrow:before {content: \"▸\";float: left;margin-right: 0.25em;color: #696969;}#sk-container-id-3 label.sk-toggleable__label-arrow:hover:before {color: black;}#sk-container-id-3 div.sk-estimator:hover label.sk-toggleable__label-arrow:before {color: black;}#sk-container-id-3 div.sk-toggleable__content {max-height: 0;max-width: 0;overflow: hidden;text-align: left;background-color: #f0f8ff;}#sk-container-id-3 div.sk-toggleable__content pre {margin: 0.2em;color: black;border-radius: 0.25em;background-color: #f0f8ff;}#sk-container-id-3 input.sk-toggleable__control:checked~div.sk-toggleable__content {max-height: 200px;max-width: 100%;overflow: auto;}#sk-container-id-3 input.sk-toggleable__control:checked~label.sk-toggleable__label-arrow:before {content: \"▾\";}#sk-container-id-3 div.sk-estimator input.sk-toggleable__control:checked~label.sk-toggleable__label {background-color: #d4ebff;}#sk-container-id-3 div.sk-label input.sk-toggleable__control:checked~label.sk-toggleable__label {background-color: #d4ebff;}#sk-container-id-3 input.sk-hidden--visually {border: 0;clip: rect(1px 1px 1px 1px);clip: rect(1px, 1px, 1px, 1px);height: 1px;margin: -1px;overflow: hidden;padding: 0;position: absolute;width: 1px;}#sk-container-id-3 div.sk-estimator {font-family: monospace;background-color: #f0f8ff;border: 1px dotted black;border-radius: 0.25em;box-sizing: border-box;margin-bottom: 0.5em;}#sk-container-id-3 div.sk-estimator:hover {background-color: #d4ebff;}#sk-container-id-3 div.sk-parallel-item::after {content: \"\";width: 100%;border-bottom: 1px solid gray;flex-grow: 1;}#sk-container-id-3 div.sk-label:hover label.sk-toggleable__label {background-color: #d4ebff;}#sk-container-id-3 div.sk-serial::before {content: \"\";position: absolute;border-left: 1px solid gray;box-sizing: border-box;top: 0;bottom: 0;left: 50%;z-index: 0;}#sk-container-id-3 div.sk-serial {display: flex;flex-direction: column;align-items: center;background-color: white;padding-right: 0.2em;padding-left: 0.2em;position: relative;}#sk-container-id-3 div.sk-item {position: relative;z-index: 1;}#sk-container-id-3 div.sk-parallel {display: flex;align-items: stretch;justify-content: center;background-color: white;position: relative;}#sk-container-id-3 div.sk-item::before, #sk-container-id-3 div.sk-parallel-item::before {content: \"\";position: absolute;border-left: 1px solid gray;box-sizing: border-box;top: 0;bottom: 0;left: 50%;z-index: -1;}#sk-container-id-3 div.sk-parallel-item {display: flex;flex-direction: column;z-index: 1;position: relative;background-color: white;}#sk-container-id-3 div.sk-parallel-item:first-child::after {align-self: flex-end;width: 50%;}#sk-container-id-3 div.sk-parallel-item:last-child::after {align-self: flex-start;width: 50%;}#sk-container-id-3 div.sk-parallel-item:only-child::after {width: 0;}#sk-container-id-3 div.sk-dashed-wrapped {border: 1px dashed gray;margin: 0 0.4em 0.5em 0.4em;box-sizing: border-box;padding-bottom: 0.4em;background-color: white;}#sk-container-id-3 div.sk-label label {font-family: monospace;font-weight: bold;display: inline-block;line-height: 1.2em;}#sk-container-id-3 div.sk-label-container {text-align: center;}#sk-container-id-3 div.sk-container {/* jupyter's `normalize.less` sets `[hidden] { display: none; }` but bootstrap.min.css set `[hidden] { display: none !important; }` so we also need the `!important` here to be able to override the default hidden behavior on the sphinx rendered scikit-learn.org. See: https://github.com/scikit-learn/scikit-learn/issues/21755 */display: inline-block !important;position: relative;}#sk-container-id-3 div.sk-text-repr-fallback {display: none;}</style><div id=\"sk-container-id-3\" class=\"sk-top-container\"><div class=\"sk-text-repr-fallback\"><pre>SVC()</pre><b>In a Jupyter environment, please rerun this cell to show the HTML representation or trust the notebook. <br />On GitHub, the HTML representation is unable to render, please try loading this page with nbviewer.org.</b></div><div class=\"sk-container\" hidden><div class=\"sk-item\"><div class=\"sk-estimator sk-toggleable\"><input class=\"sk-toggleable__control sk-hidden--visually\" id=\"sk-estimator-id-3\" type=\"checkbox\" checked><label for=\"sk-estimator-id-3\" class=\"sk-toggleable__label sk-toggleable__label-arrow\">SVC</label><div class=\"sk-toggleable__content\"><pre>SVC()</pre></div></div></div></div></div>"
      ],
      "text/plain": [
       "SVC()"
      ]
     },
     "execution_count": 46,
     "metadata": {},
     "output_type": "execute_result"
    }
   ],
   "source": [
    "from sklearn.multiclass import OneVsRestClassifier\n",
    "from sklearn.svm import LinearSVC,SVC\n",
    "\n",
    "svc = SVC()\n",
    "svc.fit(X_train_n2v,Y)"
   ]
  },
  {
   "cell_type": "code",
   "execution_count": 47,
   "metadata": {},
   "outputs": [],
   "source": [
    "predictions = svc.predict(X_test_n2v)"
   ]
  },
  {
   "cell_type": "code",
   "execution_count": 48,
   "metadata": {},
   "outputs": [
    {
     "name": "stdout",
     "output_type": "stream",
     "text": [
      "0.7146573457339387\n"
     ]
    }
   ],
   "source": [
    "from sklearn import metrics\n",
    "print(metrics.f1_score(Y_test, predictions,average=\"macro\"))\n"
   ]
  },
  {
   "cell_type": "code",
   "execution_count": 49,
   "metadata": {},
   "outputs": [
    {
     "name": "stdout",
     "output_type": "stream",
     "text": [
      "              precision    recall  f1-score   support\n",
      "\n",
      "           0       0.77      0.83      0.80      1899\n",
      "           1       0.82      0.77      0.79      2022\n",
      "           2       0.86      0.41      0.56        29\n",
      "\n",
      "    accuracy                           0.79      3950\n",
      "   macro avg       0.81      0.67      0.71      3950\n",
      "weighted avg       0.79      0.79      0.79      3950\n",
      "\n"
     ]
    }
   ],
   "source": [
    "print(metrics.classification_report(Y_test, predictions))\n"
   ]
  },
  {
   "cell_type": "code",
   "execution_count": null,
   "metadata": {},
   "outputs": [],
   "source": []
  },
  {
   "cell_type": "code",
   "execution_count": null,
   "metadata": {},
   "outputs": [],
   "source": []
  },
  {
   "cell_type": "markdown",
   "metadata": {},
   "source": [
    "\n",
    "\n"
   ]
  },
  {
   "cell_type": "code",
   "execution_count": null,
   "metadata": {},
   "outputs": [],
   "source": []
  },
  {
   "cell_type": "code",
   "execution_count": null,
   "metadata": {},
   "outputs": [],
   "source": []
  },
  {
   "cell_type": "code",
   "execution_count": null,
   "metadata": {},
   "outputs": [],
   "source": []
  },
  {
   "cell_type": "code",
   "execution_count": null,
   "metadata": {},
   "outputs": [],
   "source": []
  },
  {
   "cell_type": "code",
   "execution_count": null,
   "metadata": {},
   "outputs": [],
   "source": []
  },
  {
   "cell_type": "code",
   "execution_count": null,
   "metadata": {},
   "outputs": [],
   "source": []
  }
 ],
 "metadata": {
  "kernelspec": {
   "display_name": "Python 3 (ipykernel)",
   "language": "python",
   "name": "python3"
  },
  "language_info": {
   "codemirror_mode": {
    "name": "ipython",
    "version": 3
   },
   "file_extension": ".py",
   "mimetype": "text/x-python",
   "name": "python",
   "nbconvert_exporter": "python",
   "pygments_lexer": "ipython3",
   "version": "3.11.5"
  }
 },
 "nbformat": 4,
 "nbformat_minor": 4
}
